{
 "cells": [
  {
   "cell_type": "markdown",
   "metadata": {},
   "source": [
    "# Publications markdown generator for academicpages\n",
    "\n",
    "Takes a TSV of publications with metadata and converts them for use with [academicpages.github.io](academicpages.github.io). This is an interactive Jupyter notebook ([see more info here](http://jupyter-notebook-beginner-guide.readthedocs.io/en/latest/what_is_jupyter.html)). The core python code is also in `publications.py`. Run either from the `markdown_generator` folder after replacing `publications.tsv` with one containing your data.\n",
    "\n",
    "TODO: Make this work with BibTex and other databases of citations, rather than Stuart's non-standard TSV format and citation style.\n"
   ]
  },
  {
   "cell_type": "markdown",
   "metadata": {},
   "source": [
    "## Data format\n",
    "\n",
    "The TSV needs to have the following columns: pub_date, title, venue, excerpt, citation, site_url, and paper_url, with a header at the top. \n",
    "\n",
    "- `excerpt` and `paper_url` can be blank, but the others must have values. \n",
    "- `pub_date` must be formatted as YYYY-MM-DD.\n",
    "- `url_slug` will be the descriptive part of the .md file and the permalink URL for the page about the paper. The .md file will be `YYYY-MM-DD-[url_slug].md` and the permalink will be `https://[yourdomain]/publications/YYYY-MM-DD-[url_slug]`\n",
    "\n",
    "This is how the raw file looks (it doesn't look pretty, use a spreadsheet or other program to edit and create)."
   ]
  },
  {
   "cell_type": "code",
   "execution_count": 1,
   "metadata": {},
   "outputs": [
    {
     "name": "stderr",
     "output_type": "stream",
     "text": [
      "'cat' is not recognized as an internal or external command,\n",
      "operable program or batch file.\n"
     ]
    }
   ],
   "source": [
    "!cat publications.tsv"
   ]
  },
  {
   "cell_type": "markdown",
   "metadata": {},
   "source": [
    "## Import pandas\n",
    "\n",
    "We are using the very handy pandas library for dataframes."
   ]
  },
  {
   "cell_type": "code",
   "execution_count": 20,
   "metadata": {},
   "outputs": [],
   "source": [
    "import pandas as pd"
   ]
  },
  {
   "cell_type": "markdown",
   "metadata": {},
   "source": [
    "## Import TSV\n",
    "\n",
    "Pandas makes this easy with the read_csv function. We are using a TSV, so we specify the separator as a tab, or `\\t`.\n",
    "\n",
    "I found it important to put this data in a tab-separated values format, because there are a lot of commas in this kind of data and comma-separated values can get messed up. However, you can modify the import statement, as pandas also has read_excel(), read_json(), and others."
   ]
  },
  {
   "cell_type": "code",
   "execution_count": 24,
   "metadata": {},
   "outputs": [
    {
     "data": {
      "text/html": [
       "<div>\n",
       "<style scoped>\n",
       "    .dataframe tbody tr th:only-of-type {\n",
       "        vertical-align: middle;\n",
       "    }\n",
       "\n",
       "    .dataframe tbody tr th {\n",
       "        vertical-align: top;\n",
       "    }\n",
       "\n",
       "    .dataframe thead th {\n",
       "        text-align: right;\n",
       "    }\n",
       "</style>\n",
       "<table border=\"1\" class=\"dataframe\">\n",
       "  <thead>\n",
       "    <tr style=\"text-align: right;\">\n",
       "      <th></th>\n",
       "      <th>pub_date</th>\n",
       "      <th>title</th>\n",
       "      <th>venue</th>\n",
       "      <th>excerpt</th>\n",
       "      <th>citation</th>\n",
       "      <th>url_slug</th>\n",
       "      <th>paper_url</th>\n",
       "      <th>link</th>\n",
       "    </tr>\n",
       "  </thead>\n",
       "  <tbody>\n",
       "    <tr>\n",
       "      <th>0</th>\n",
       "      <td>04-11-2014</td>\n",
       "      <td>Assessment of Genetic Diversity in Sunflower (...</td>\n",
       "      <td>International Journal of Agriculture and Food ...</td>\n",
       "      <td>NaN</td>\n",
       "      <td>Mohd Shamshad, S.K. Dhillon, Vikrant Tyagi and...</td>\n",
       "      <td>Genetic Diversity in Sunflower</td>\n",
       "      <td>/files/reasearch/Shamshad_ijafst.pdf</td>\n",
       "      <td>httpx//www:ripublication:com/ ijafst:htm</td>\n",
       "    </tr>\n",
       "    <tr>\n",
       "      <th>1</th>\n",
       "      <td>07-11-2014</td>\n",
       "      <td>Magnitude of combining ability for seed yield ...</td>\n",
       "      <td>National Symposium on Crop Improvement for Inc...</td>\n",
       "      <td>Combining ability in sunflower</td>\n",
       "      <td>Mohd Shamshad and S K Dhillon (2014). \"Magnitu...</td>\n",
       "      <td>Combinig Ability  sunflower</td>\n",
       "      <td>/files/reasearch/Magnitude.pdf</td>\n",
       "      <td>NaN</td>\n",
       "    </tr>\n",
       "    <tr>\n",
       "      <th>2</th>\n",
       "      <td>18-05-2016</td>\n",
       "      <td>Heterosis for oil content and oil quality in s...</td>\n",
       "      <td>Current Advances in Agricultural Sciences</td>\n",
       "      <td>Oil content and oil quality in sunflower</td>\n",
       "      <td>Mohd Shamshad, SK Dhillon and Gurpreet Kaur (2...</td>\n",
       "      <td>Heterosis for oil and oil content</td>\n",
       "      <td>/files/reasearch/HeterosisOil.pdf</td>\n",
       "      <td>https://doi.org/ 10.5958/2394-4471.2016.00010.1</td>\n",
       "    </tr>\n",
       "    <tr>\n",
       "      <th>3</th>\n",
       "      <td>01-12-2016</td>\n",
       "      <td>Morphological and molecular genetic diversity ...</td>\n",
       "      <td>Electronic Journal of Plant Breeding</td>\n",
       "      <td>Morphological and genetic diversity in Sunflower</td>\n",
       "      <td>Mohd Shamshad and S.K. Dhillon (2016). \"Morpho...</td>\n",
       "      <td>Morphological and Genetic diversity in sunflower</td>\n",
       "      <td>/files/reasearch/Morphological.pdf</td>\n",
       "      <td>https://doi.org/10.5958/0975-928X.2016.00169.1</td>\n",
       "    </tr>\n",
       "    <tr>\n",
       "      <th>4</th>\n",
       "      <td>31-03-2022</td>\n",
       "      <td>RNA-Seq-Based Transcriptomics Study to Investi...</td>\n",
       "      <td>Frontier in Genetics</td>\n",
       "      <td>RNA seq analysis, wheat NUE and differential g...</td>\n",
       "      <td>Sarabjit Kaur,M. Shamshad, Suruchi Jindal, Ama...</td>\n",
       "      <td>RNA-Seq-NUE</td>\n",
       "      <td>/files/research/RNA-seq.pdf</td>\n",
       "      <td>https://doi.org/10.3389/fgene.2022.853910</td>\n",
       "    </tr>\n",
       "  </tbody>\n",
       "</table>\n",
       "</div>"
      ],
      "text/plain": [
       "     pub_date                                              title  \\\n",
       "0  04-11-2014  Assessment of Genetic Diversity in Sunflower (...   \n",
       "1  07-11-2014  Magnitude of combining ability for seed yield ...   \n",
       "2  18-05-2016  Heterosis for oil content and oil quality in s...   \n",
       "3  01-12-2016  Morphological and molecular genetic diversity ...   \n",
       "4  31-03-2022  RNA-Seq-Based Transcriptomics Study to Investi...   \n",
       "\n",
       "                                               venue  \\\n",
       "0  International Journal of Agriculture and Food ...   \n",
       "1  National Symposium on Crop Improvement for Inc...   \n",
       "2          Current Advances in Agricultural Sciences   \n",
       "3               Electronic Journal of Plant Breeding   \n",
       "4                               Frontier in Genetics   \n",
       "\n",
       "                                             excerpt  \\\n",
       "0                                                NaN   \n",
       "1                     Combining ability in sunflower   \n",
       "2           Oil content and oil quality in sunflower   \n",
       "3   Morphological and genetic diversity in Sunflower   \n",
       "4  RNA seq analysis, wheat NUE and differential g...   \n",
       "\n",
       "                                            citation  \\\n",
       "0  Mohd Shamshad, S.K. Dhillon, Vikrant Tyagi and...   \n",
       "1  Mohd Shamshad and S K Dhillon (2014). \"Magnitu...   \n",
       "2  Mohd Shamshad, SK Dhillon and Gurpreet Kaur (2...   \n",
       "3  Mohd Shamshad and S.K. Dhillon (2016). \"Morpho...   \n",
       "4  Sarabjit Kaur,M. Shamshad, Suruchi Jindal, Ama...   \n",
       "\n",
       "                                           url_slug  \\\n",
       "0                    Genetic Diversity in Sunflower   \n",
       "1                       Combinig Ability  sunflower   \n",
       "2                 Heterosis for oil and oil content   \n",
       "3  Morphological and Genetic diversity in sunflower   \n",
       "4                                       RNA-Seq-NUE   \n",
       "\n",
       "                              paper_url  \\\n",
       "0  /files/reasearch/Shamshad_ijafst.pdf   \n",
       "1        /files/reasearch/Magnitude.pdf   \n",
       "2     /files/reasearch/HeterosisOil.pdf   \n",
       "3    /files/reasearch/Morphological.pdf   \n",
       "4           /files/research/RNA-seq.pdf   \n",
       "\n",
       "                                              link  \n",
       "0         httpx//www:ripublication:com/ ijafst:htm  \n",
       "1                                              NaN  \n",
       "2  https://doi.org/ 10.5958/2394-4471.2016.00010.1  \n",
       "3   https://doi.org/10.5958/0975-928X.2016.00169.1  \n",
       "4        https://doi.org/10.3389/fgene.2022.853910  "
      ]
     },
     "execution_count": 24,
     "metadata": {},
     "output_type": "execute_result"
    }
   ],
   "source": [
    "publications = pd.read_csv(\"publications.tsv\", sep=\"\\t\", header=0)\n",
    "publications\n"
   ]
  },
  {
   "cell_type": "markdown",
   "metadata": {},
   "source": [
    "## Escape special characters\n",
    "\n",
    "YAML is very picky about how it takes a valid string, so we are replacing single and double quotes (and ampersands) with their HTML encoded equivilents. This makes them look not so readable in raw format, but they are parsed and rendered nicely."
   ]
  },
  {
   "cell_type": "code",
   "execution_count": 27,
   "metadata": {},
   "outputs": [],
   "source": [
    "html_escape_table = {\n",
    "    \"&\": \"&amp;\",\n",
    "    '\"': \"&quot;\",\n",
    "    \"'\": \"&apos;\"\n",
    "    }\n",
    "\n",
    "def html_escape(text):\n",
    "    \"\"\"Produce entities within text.\"\"\"\n",
    "    return \"\".join(html_escape_table.get(c,c) for c in text)"
   ]
  },
  {
   "cell_type": "markdown",
   "metadata": {},
   "source": [
    "## Creating the markdown files\n",
    "\n",
    "This is where the heavy lifting is done. This loops through all the rows in the TSV dataframe, then starts to concatentate a big string (```md```) that contains the markdown for each type. It does the YAML metadata first, then does the description for the individual page."
   ]
  },
  {
   "cell_type": "code",
   "execution_count": 30,
   "metadata": {},
   "outputs": [],
   "source": [
    "import os\n",
    "for row, item in publications.iterrows():\n",
    "    \n",
    "    md_filename = str(item.pub_date) + \"-\" + item.url_slug + \".md\"\n",
    "    html_filename = str(item.pub_date) + \"-\" + item.url_slug\n",
    "    year = item.pub_date[:4]\n",
    "    \n",
    "    ## YAML variables\n",
    "    \n",
    "    md = \"---\\ntitle: \\\"\"   + item.title + '\"\\n'\n",
    "    \n",
    "    md += \"\"\"collection: publications\"\"\"\n",
    "    \n",
    "    md += \"\"\"\\npermalink: /publication/\"\"\" + html_filename\n",
    "    \n",
    "    if len(str(item.excerpt)) > 5:\n",
    "        md += \"\\nexcerpt: '\" + html_escape(item.excerpt) + \"'\"\n",
    "    \n",
    "    md += \"\\ndate: \" + str(item.pub_date) \n",
    "    \n",
    "    md += \"\\nvenue: '\" + html_escape(item.venue) + \"'\"\n",
    "   \n",
    "    if len(str(item.link)) > 5:\n",
    "        md +=\"\\nlink: '\" + html_escape(item.link) + \"'\"\n",
    "    \n",
    "    if len(str(item.paper_url)) > 5:\n",
    "        md += \"\\npaperurl: '\" + item.paper_url + \"'\"\n",
    "    \n",
    "    md += \"\\ncitation: '\" + html_escape(item.citation) + \"'\"\n",
    "    \n",
    "    md += \"\\n---\"\n",
    "    \n",
    "    ## Markdown description for individual page\n",
    "        \n",
    "    if len(str(item.excerpt)) > 5:\n",
    "        md += \"\\n\" + html_escape(item.excerpt) + \"\\n\"\n",
    "    \n",
    "    if len(str(item.paper_url)) > 5:\n",
    "        md += \"\\n[Download paper here](\" + item.paper_url + \")\\n\" \n",
    "        \n",
    "    md += \"\\nRecommended citation: \" + item.citation\n",
    "    \n",
    "    md_filename = os.path.basename(md_filename)\n",
    "       \n",
    "    with open(\"../_publications/\" + md_filename, 'w') as f:\n",
    "        f.write(md)"
   ]
  },
  {
   "cell_type": "markdown",
   "metadata": {},
   "source": [
    "These files are in the publications directory, one directory below where we're working from."
   ]
  },
  {
   "cell_type": "code",
   "execution_count": 9,
   "metadata": {},
   "outputs": [
    {
     "name": "stderr",
     "output_type": "stream",
     "text": [
      "'ls' is not recognized as an internal or external command,\n",
      "operable program or batch file.\n"
     ]
    }
   ],
   "source": [
    "!ls ../_publications/"
   ]
  },
  {
   "cell_type": "code",
   "execution_count": 7,
   "metadata": {},
   "outputs": [
    {
     "name": "stdout",
     "output_type": "stream",
     "text": [
      "---\r\n",
      "title: \"Paper Title Number 1\"\r\n",
      "collection: publications\r\n",
      "permalink: /publication/2009-10-01-paper-title-number-1\r\n",
      "excerpt: 'This paper is about the number 1. The number 2 is left for future work.'\r\n",
      "date: 2009-10-01\r\n",
      "venue: 'Journal 1'\r\n",
      "paperurl: 'http://academicpages.github.io/files/paper1.pdf'\r\n",
      "citation: 'Your Name, You. (2009). &quot;Paper Title Number 1.&quot; <i>Journal 1</i>. 1(1).'\r\n",
      "---\r\n",
      "This paper is about the number 1. The number 2 is left for future work.\r\n",
      "\r\n",
      "[Download paper here](http://academicpages.github.io/files/paper1.pdf)\r\n",
      "\r\n",
      "Recommended citation: Your Name, You. (2009). \"Paper Title Number 1.\" <i>Journal 1</i>. 1(1)."
     ]
    }
   ],
   "source": [
    "!cat ../_publications/2009-10-01-paper-title-number-1.md"
   ]
  },
  {
   "cell_type": "code",
   "execution_count": null,
   "metadata": {
    "collapsed": true
   },
   "outputs": [],
   "source": []
  }
 ],
 "metadata": {
  "kernelspec": {
   "display_name": "Python 3 (ipykernel)",
   "language": "python",
   "name": "python3"
  },
  "language_info": {
   "codemirror_mode": {
    "name": "ipython",
    "version": 3
   },
   "file_extension": ".py",
   "mimetype": "text/x-python",
   "name": "python",
   "nbconvert_exporter": "python",
   "pygments_lexer": "ipython3",
   "version": "3.9.7"
  }
 },
 "nbformat": 4,
 "nbformat_minor": 1
}
