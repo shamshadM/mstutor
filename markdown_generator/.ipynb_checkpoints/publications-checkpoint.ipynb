{
 "cells": [
  {
   "cell_type": "markdown",
   "metadata": {},
   "source": [
    "# Publications markdown generator for academicpages\n",
    "\n",
    "Takes a TSV of publications with metadata and converts them for use with [academicpages.github.io](academicpages.github.io). This is an interactive Jupyter notebook ([see more info here](http://jupyter-notebook-beginner-guide.readthedocs.io/en/latest/what_is_jupyter.html)). The core python code is also in `publications.py`. Run either from the `markdown_generator` folder after replacing `publications.tsv` with one containing your data.\n",
    "\n",
    "TODO: Make this work with BibTex and other databases of citations, rather than Stuart's non-standard TSV format and citation style.\n"
   ]
  },
  {
   "cell_type": "markdown",
   "metadata": {},
   "source": [
    "## Data format\n",
    "\n",
    "The TSV needs to have the following columns: pub_date, title, venue, excerpt, citation, site_url, and paper_url, with a header at the top. \n",
    "\n",
    "- `excerpt` and `paper_url` can be blank, but the others must have values. \n",
    "- `pub_date` must be formatted as YYYY-MM-DD.\n",
    "- `url_slug` will be the descriptive part of the .md file and the permalink URL for the page about the paper. The .md file will be `YYYY-MM-DD-[url_slug].md` and the permalink will be `https://[yourdomain]/publications/YYYY-MM-DD-[url_slug]`\n",
    "\n",
    "This is how the raw file looks (it doesn't look pretty, use a spreadsheet or other program to edit and create)."
   ]
  },
  {
   "cell_type": "code",
   "execution_count": 1,
   "metadata": {},
   "outputs": [
    {
     "name": "stderr",
     "output_type": "stream",
     "text": [
      "'cat' is not recognized as an internal or external command,\n",
      "operable program or batch file.\n"
     ]
    }
   ],
   "source": [
    "!cat publications.tsv"
   ]
  },
  {
   "cell_type": "markdown",
   "metadata": {},
   "source": [
    "## Import pandas\n",
    "\n",
    "We are using the very handy pandas library for dataframes."
   ]
  },
  {
   "cell_type": "code",
   "execution_count": 1,
   "metadata": {},
   "outputs": [
    {
     "ename": "ModuleNotFoundError",
     "evalue": "No module named 'pandas'",
     "output_type": "error",
     "traceback": [
      "\u001b[1;31m---------------------------------------------------------------------------\u001b[0m",
      "\u001b[1;31mModuleNotFoundError\u001b[0m                       Traceback (most recent call last)",
      "Input \u001b[1;32mIn [1]\u001b[0m, in \u001b[0;36m<cell line: 1>\u001b[1;34m()\u001b[0m\n\u001b[1;32m----> 1\u001b[0m \u001b[38;5;28;01mimport\u001b[39;00m \u001b[38;5;21;01mpandas\u001b[39;00m \u001b[38;5;28;01mas\u001b[39;00m \u001b[38;5;21;01mpd\u001b[39;00m\n",
      "\u001b[1;31mModuleNotFoundError\u001b[0m: No module named 'pandas'"
     ]
    }
   ],
   "source": [
    "import pandas as pd"
   ]
  },
  {
   "cell_type": "markdown",
   "metadata": {},
   "source": [
    "## Import TSV\n",
    "\n",
    "Pandas makes this easy with the read_csv function. We are using a TSV, so we specify the separator as a tab, or `\\t`.\n",
    "\n",
    "I found it important to put this data in a tab-separated values format, because there are a lot of commas in this kind of data and comma-separated values can get messed up. However, you can modify the import statement, as pandas also has read_excel(), read_json(), and others."
   ]
  },
  {
   "cell_type": "code",
   "execution_count": 2,
   "metadata": {},
   "outputs": [
    {
     "data": {
      "text/html": [
       "<div>\n",
       "<style scoped>\n",
       "    .dataframe tbody tr th:only-of-type {\n",
       "        vertical-align: middle;\n",
       "    }\n",
       "\n",
       "    .dataframe tbody tr th {\n",
       "        vertical-align: top;\n",
       "    }\n",
       "\n",
       "    .dataframe thead th {\n",
       "        text-align: right;\n",
       "    }\n",
       "</style>\n",
       "<table border=\"1\" class=\"dataframe\">\n",
       "  <thead>\n",
       "    <tr style=\"text-align: right;\">\n",
       "      <th></th>\n",
       "      <th>pub_date</th>\n",
       "      <th>title</th>\n",
       "      <th>venue</th>\n",
       "      <th>excerpt</th>\n",
       "      <th>citation</th>\n",
       "      <th>url_slug</th>\n",
       "      <th>paper_url</th>\n",
       "      <th>link</th>\n",
       "    </tr>\n",
       "  </thead>\n",
       "  <tbody>\n",
       "    <tr>\n",
       "      <th>0</th>\n",
       "      <td>2014-04-11</td>\n",
       "      <td>Assessment of Genetic Diversity in Sunflower (...</td>\n",
       "      <td>International Journal of Agriculture and Food ...</td>\n",
       "      <td>Morphological diversity, Sunflower, exotic ger...</td>\n",
       "      <td>Mohd Shamshad, S.K. Dhillon, Vikrant Tyagi and...</td>\n",
       "      <td>Genetic Diversity in Sunflower</td>\n",
       "      <td>/files/research/Shamshad_ijafst.pdf</td>\n",
       "      <td>httpx//www:ripublication:com/ ijafst:htm</td>\n",
       "    </tr>\n",
       "    <tr>\n",
       "      <th>1</th>\n",
       "      <td>2014-07-11</td>\n",
       "      <td>Magnitude of combining ability for seed yield ...</td>\n",
       "      <td>National Symposium on Crop Improvement for Inc...</td>\n",
       "      <td>Combining ability in sunflower, line into tester</td>\n",
       "      <td>Mohd Shamshad and S K Dhillon (2014). \"Magnitu...</td>\n",
       "      <td>Combinig Ability  sunflower</td>\n",
       "      <td>/files/research/Magnitude.pdf</td>\n",
       "      <td>NaN</td>\n",
       "    </tr>\n",
       "    <tr>\n",
       "      <th>2</th>\n",
       "      <td>2016-05-18</td>\n",
       "      <td>Heterosis for oil content and oil quality in s...</td>\n",
       "      <td>Current Advances in Agricultural Sciences</td>\n",
       "      <td>Oil content and oil quality in sunflower and h...</td>\n",
       "      <td>Mohd Shamshad, SK Dhillon and Gurpreet Kaur (2...</td>\n",
       "      <td>Heterosis for oil and oil content</td>\n",
       "      <td>/files/research/HeterosisOil.pdf</td>\n",
       "      <td>https://doi.org/ 10.5958/2394-4471.2016.00010.1</td>\n",
       "    </tr>\n",
       "    <tr>\n",
       "      <th>3</th>\n",
       "      <td>2016-01-12</td>\n",
       "      <td>Morphological and molecular genetic diversity ...</td>\n",
       "      <td>Electronic Journal of Plant Breeding</td>\n",
       "      <td>Morphological and genetic diversity in Sunflower</td>\n",
       "      <td>Mohd Shamshad and S.K. Dhillon (2016). \"Morpho...</td>\n",
       "      <td>Morphological and Genetic diversity in sunflower</td>\n",
       "      <td>/files/research/Morphological.pdf</td>\n",
       "      <td>https://doi.org/10.5958/0975-928X.2016.00169.1</td>\n",
       "    </tr>\n",
       "    <tr>\n",
       "      <th>4</th>\n",
       "      <td>2022-03-31</td>\n",
       "      <td>RNA-Seq-Based Transcriptomics Study to Investi...</td>\n",
       "      <td>Frontier in Genetics</td>\n",
       "      <td>RNA seq analysis, wheat NUE and differential g...</td>\n",
       "      <td>Sarabjit Kaur*, M. Shamshad*, Suruchi Jindal, ...</td>\n",
       "      <td>RNA-Seq-NUE, differential gene expression</td>\n",
       "      <td>/files/research/RNA-seq.pdf</td>\n",
       "      <td>https://doi.org/10.3389/fgene.2022.853910</td>\n",
       "    </tr>\n",
       "    <tr>\n",
       "      <th>5</th>\n",
       "      <td>2022-01-22</td>\n",
       "      <td>Uncovering the Iranian wheat landraces for sal...</td>\n",
       "      <td>Journal of Cereal Research Communications</td>\n",
       "      <td>Iranian landrace, wheat and salt strees tolerence</td>\n",
       "      <td>Sukhjit Kaur, Ankita Suhalia, R. S. Sarlach, M...</td>\n",
       "      <td>Salinity lranian</td>\n",
       "      <td>/files/research/salinity paper.pdf</td>\n",
       "      <td>https://doi.org/10.1007/s42976-022-00245-6</td>\n",
       "    </tr>\n",
       "    <tr>\n",
       "      <th>6</th>\n",
       "      <td>2022-02-19</td>\n",
       "      <td>Salt stress genotypic response: Relative toler...</td>\n",
       "      <td>Agricultural Research Journal</td>\n",
       "      <td>Salt stress, NaCl, Morphological and root study</td>\n",
       "      <td>Sharma Achla, Ankita, Shamshad Mohd, Kaur Sukh...</td>\n",
       "      <td>PAU-Salinity</td>\n",
       "      <td>NaN</td>\n",
       "      <td>https://doi.org/10.5958/2395-146X.2021.00138.1</td>\n",
       "    </tr>\n",
       "    <tr>\n",
       "      <th>7</th>\n",
       "      <td>2022-04-06</td>\n",
       "      <td>Pyramiding of genes for grain protein content,...</td>\n",
       "      <td>Molecular Breeding</td>\n",
       "      <td>Multi Institution efforts, GPC , exotic lines,...</td>\n",
       "      <td>Pushpendra K Gupta, Harindra S Balyan, Parveen...</td>\n",
       "      <td>MASS Paper</td>\n",
       "      <td>/files/research/MAS paper.pdf</td>\n",
       "      <td>https://doi.org/10.1007/s11032-022-01277-w</td>\n",
       "    </tr>\n",
       "    <tr>\n",
       "      <th>8</th>\n",
       "      <td>2022-05-05</td>\n",
       "      <td>Unravelling consensus genomic regions associat...</td>\n",
       "      <td>Planta</td>\n",
       "      <td>Quality traits, wheat, meta analysis</td>\n",
       "      <td>Santosh Gudi, Dinesh Kumar Saini, Gurjeet Sing...</td>\n",
       "      <td>Meta Analysis quality trait</td>\n",
       "      <td>/files/research/Meta AnalysisP.pdf</td>\n",
       "      <td>https://doi.org/10.1007/s00425-022-03904-4</td>\n",
       "    </tr>\n",
       "    <tr>\n",
       "      <th>9</th>\n",
       "      <td>2022-05-17</td>\n",
       "      <td>In silico characterization of &lt;i&gt;Thinopyrum el...</td>\n",
       "      <td>Journal of Cereal Research Communications</td>\n",
       "      <td>&lt;i&gt;Thinopyrum elongatum &lt;/i&gt;, wheat, PsyE1 gen...</td>\n",
       "      <td>Asish Kumar Padhy, Parampreet Kaur, Baljinder ...</td>\n",
       "      <td>Carotenoid biofortification</td>\n",
       "      <td>/files/research/Y gene.pdf</td>\n",
       "      <td>https://doi.org/10.1007/s42976-022-00279-w</td>\n",
       "    </tr>\n",
       "  </tbody>\n",
       "</table>\n",
       "</div>"
      ],
      "text/plain": [
       "     pub_date                                              title  \\\n",
       "0  2014-04-11  Assessment of Genetic Diversity in Sunflower (...   \n",
       "1  2014-07-11  Magnitude of combining ability for seed yield ...   \n",
       "2  2016-05-18  Heterosis for oil content and oil quality in s...   \n",
       "3  2016-01-12  Morphological and molecular genetic diversity ...   \n",
       "4  2022-03-31  RNA-Seq-Based Transcriptomics Study to Investi...   \n",
       "5  2022-01-22  Uncovering the Iranian wheat landraces for sal...   \n",
       "6  2022-02-19  Salt stress genotypic response: Relative toler...   \n",
       "7  2022-04-06  Pyramiding of genes for grain protein content,...   \n",
       "8  2022-05-05  Unravelling consensus genomic regions associat...   \n",
       "9  2022-05-17  In silico characterization of <i>Thinopyrum el...   \n",
       "\n",
       "                                               venue  \\\n",
       "0  International Journal of Agriculture and Food ...   \n",
       "1  National Symposium on Crop Improvement for Inc...   \n",
       "2          Current Advances in Agricultural Sciences   \n",
       "3               Electronic Journal of Plant Breeding   \n",
       "4                               Frontier in Genetics   \n",
       "5          Journal of Cereal Research Communications   \n",
       "6                      Agricultural Research Journal   \n",
       "7                                Molecular Breeding    \n",
       "8                                             Planta   \n",
       "9          Journal of Cereal Research Communications   \n",
       "\n",
       "                                             excerpt  \\\n",
       "0  Morphological diversity, Sunflower, exotic ger...   \n",
       "1   Combining ability in sunflower, line into tester   \n",
       "2  Oil content and oil quality in sunflower and h...   \n",
       "3   Morphological and genetic diversity in Sunflower   \n",
       "4  RNA seq analysis, wheat NUE and differential g...   \n",
       "5  Iranian landrace, wheat and salt strees tolerence   \n",
       "6    Salt stress, NaCl, Morphological and root study   \n",
       "7  Multi Institution efforts, GPC , exotic lines,...   \n",
       "8               Quality traits, wheat, meta analysis   \n",
       "9  <i>Thinopyrum elongatum </i>, wheat, PsyE1 gen...   \n",
       "\n",
       "                                            citation  \\\n",
       "0  Mohd Shamshad, S.K. Dhillon, Vikrant Tyagi and...   \n",
       "1  Mohd Shamshad and S K Dhillon (2014). \"Magnitu...   \n",
       "2  Mohd Shamshad, SK Dhillon and Gurpreet Kaur (2...   \n",
       "3  Mohd Shamshad and S.K. Dhillon (2016). \"Morpho...   \n",
       "4  Sarabjit Kaur*, M. Shamshad*, Suruchi Jindal, ...   \n",
       "5  Sukhjit Kaur, Ankita Suhalia, R. S. Sarlach, M...   \n",
       "6  Sharma Achla, Ankita, Shamshad Mohd, Kaur Sukh...   \n",
       "7  Pushpendra K Gupta, Harindra S Balyan, Parveen...   \n",
       "8  Santosh Gudi, Dinesh Kumar Saini, Gurjeet Sing...   \n",
       "9  Asish Kumar Padhy, Parampreet Kaur, Baljinder ...   \n",
       "\n",
       "                                           url_slug  \\\n",
       "0                    Genetic Diversity in Sunflower   \n",
       "1                       Combinig Ability  sunflower   \n",
       "2                 Heterosis for oil and oil content   \n",
       "3  Morphological and Genetic diversity in sunflower   \n",
       "4         RNA-Seq-NUE, differential gene expression   \n",
       "5                                  Salinity lranian   \n",
       "6                                      PAU-Salinity   \n",
       "7                                        MASS Paper   \n",
       "8                       Meta Analysis quality trait   \n",
       "9                       Carotenoid biofortification   \n",
       "\n",
       "                             paper_url  \\\n",
       "0  /files/research/Shamshad_ijafst.pdf   \n",
       "1        /files/research/Magnitude.pdf   \n",
       "2     /files/research/HeterosisOil.pdf   \n",
       "3    /files/research/Morphological.pdf   \n",
       "4          /files/research/RNA-seq.pdf   \n",
       "5   /files/research/salinity paper.pdf   \n",
       "6                                  NaN   \n",
       "7        /files/research/MAS paper.pdf   \n",
       "8   /files/research/Meta AnalysisP.pdf   \n",
       "9           /files/research/Y gene.pdf   \n",
       "\n",
       "                                              link  \n",
       "0         httpx//www:ripublication:com/ ijafst:htm  \n",
       "1                                              NaN  \n",
       "2  https://doi.org/ 10.5958/2394-4471.2016.00010.1  \n",
       "3   https://doi.org/10.5958/0975-928X.2016.00169.1  \n",
       "4        https://doi.org/10.3389/fgene.2022.853910  \n",
       "5       https://doi.org/10.1007/s42976-022-00245-6  \n",
       "6   https://doi.org/10.5958/2395-146X.2021.00138.1  \n",
       "7       https://doi.org/10.1007/s11032-022-01277-w  \n",
       "8       https://doi.org/10.1007/s00425-022-03904-4  \n",
       "9       https://doi.org/10.1007/s42976-022-00279-w  "
      ]
     },
     "execution_count": 2,
     "metadata": {},
     "output_type": "execute_result"
    }
   ],
   "source": [
    "publications = pd.read_csv(\"publications.tsv\", sep=\"\\t\", header=0)\n",
    "publications\n"
   ]
  },
  {
   "cell_type": "markdown",
   "metadata": {},
   "source": [
    "## Escape special characters\n",
    "\n",
    "YAML is very picky about how it takes a valid string, so we are replacing single and double quotes (and ampersands) with their HTML encoded equivilents. This makes them look not so readable in raw format, but they are parsed and rendered nicely."
   ]
  },
  {
   "cell_type": "code",
   "execution_count": 3,
   "metadata": {},
   "outputs": [],
   "source": [
    "html_escape_table = {\n",
    "    \"&\": \"&amp;\",\n",
    "    '\"': \"&quot;\",\n",
    "    \"'\": \"&apos;\"\n",
    "    }\n",
    "\n",
    "def html_escape(text):\n",
    "    \"\"\"Produce entities within text.\"\"\"\n",
    "    return \"\".join(html_escape_table.get(c,c) for c in text)"
   ]
  },
  {
   "cell_type": "markdown",
   "metadata": {},
   "source": [
    "## Creating the markdown files\n",
    "\n",
    "This is where the heavy lifting is done. This loops through all the rows in the TSV dataframe, then starts to concatentate a big string (```md```) that contains the markdown for each type. It does the YAML metadata first, then does the description for the individual page."
   ]
  },
  {
   "cell_type": "code",
   "execution_count": 4,
   "metadata": {},
   "outputs": [],
   "source": [
    "import os\n",
    "for row, item in publications.iterrows():\n",
    "    \n",
    "    md_filename = str(item.pub_date) + \"-\" + item.url_slug + \".md\"\n",
    "    html_filename = str(item.pub_date) + \"-\" + item.url_slug\n",
    "    year = item.pub_date[:4]\n",
    "    \n",
    "    ## YAML variables\n",
    "    \n",
    "    md = \"---\\ntitle: \\\"\"   + item.title + '\"\\n'\n",
    "    \n",
    "    md += \"\"\"collection: publications\"\"\"\n",
    "    \n",
    "    md += \"\"\"\\npermalink: /publication/\"\"\" + html_filename\n",
    "    \n",
    "    if len(str(item.excerpt)) > 5:\n",
    "        md += \"\\nexcerpt: '\" + html_escape(item.excerpt) + \"'\"\n",
    "    \n",
    "    md += \"\\ndate: \" + str(item.pub_date) \n",
    "    \n",
    "    md += \"\\nvenue: '\" + html_escape(item.venue) + \"'\"\n",
    "   \n",
    "    if len(str(item.link)) > 5:\n",
    "        md +=\"\\nlink: '\" + html_escape(item.link) + \"'\"\n",
    "    \n",
    "    if len(str(item.paper_url)) > 5:\n",
    "        md += \"\\npaperurl: '\" + item.paper_url + \"'\"\n",
    "    \n",
    "    md += \"\\ncitation: '\" + html_escape(item.citation) + \"'\"\n",
    "    \n",
    "    md += \"\\n---\"\n",
    "    \n",
    "    ## Markdown description for individual page\n",
    "        \n",
    "    if len(str(item.excerpt)) > 5:\n",
    "        md += \"\\n\" + html_escape(item.excerpt) + \"\\n\"\n",
    "    \n",
    "    if len(str(item.paper_url)) > 5:\n",
    "        md += \"\\n[Download paper here](\" + item.paper_url + \")\\n\" \n",
    "        \n",
    "    md += \"\\nRecommended citation: \" + item.citation\n",
    "    \n",
    "    md_filename = os.path.basename(md_filename)\n",
    "       \n",
    "    with open(\"../_publications/\" + md_filename, 'w') as f:\n",
    "        f.write(md)"
   ]
  },
  {
   "cell_type": "markdown",
   "metadata": {},
   "source": [
    "These files are in the publications directory, one directory below where we're working from."
   ]
  },
  {
   "cell_type": "code",
   "execution_count": 5,
   "metadata": {},
   "outputs": [
    {
     "name": "stdout",
     "output_type": "stream",
     "text": [
      "C:\\Users\\Shamshad\\Documents\\GitHub\\website\\_publications\n"
     ]
    }
   ],
   "source": [
    "cd ../_publications/"
   ]
  },
  {
   "cell_type": "code",
   "execution_count": 6,
   "metadata": {},
   "outputs": [
    {
     "name": "stderr",
     "output_type": "stream",
     "text": [
      "'pwd' is not recognized as an internal or external command,\n",
      "operable program or batch file.\n"
     ]
    }
   ],
   "source": [
    "!pwd"
   ]
  },
  {
   "cell_type": "code",
   "execution_count": 11,
   "metadata": {},
   "outputs": [
    {
     "name": "stderr",
     "output_type": "stream",
     "text": [
      "The system cannot find the file specified.\n",
      "Error occurred while processing: 2022-05-17-Carotenoid.\n",
      "The system cannot find the file specified.\n",
      "Error occurred while processing: biofortification.md.\n"
     ]
    }
   ],
   "source": [
    "!type  2022-05-17-Carotenoid biofortification.md"
   ]
  },
  {
   "cell_type": "code",
   "execution_count": null,
   "metadata": {},
   "outputs": [],
   "source": []
  }
 ],
 "metadata": {
  "kernelspec": {
   "display_name": "Python 3 (ipykernel)",
   "language": "python",
   "name": "python3"
  },
  "language_info": {
   "codemirror_mode": {
    "name": "ipython",
    "version": 3
   },
   "file_extension": ".py",
   "mimetype": "text/x-python",
   "name": "python",
   "nbconvert_exporter": "python",
   "pygments_lexer": "ipython3",
   "version": "3.9.7"
  }
 },
 "nbformat": 4,
 "nbformat_minor": 1
}
